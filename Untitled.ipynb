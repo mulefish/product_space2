{
 "cells": [
  {
   "cell_type": "code",
   "execution_count": 6,
   "id": "e96d108f",
   "metadata": {},
   "outputs": [
    {
     "name": "stdout",
     "output_type": "stream",
     "text": [
      "It works\n"
     ]
    }
   ],
   "source": [
    "from sklearn.cluster import KMeans\n",
    "from transformers import BertTokenizer, BertModel\n",
    "import torch\n",
    "print(\"It works\")"
   ]
  },
  {
   "cell_type": "code",
   "execution_count": 4,
   "id": "b1dbf09d",
   "metadata": {},
   "outputs": [
    {
     "name": "stdout",
     "output_type": "stream",
     "text": [
      "0     Key Moments Keychain|LU9AIVS|On the Move|-bran...\n",
      "5       LAB Run Tank|LM1210S|Running|-PT from SU21 WWMT\n",
      "6     Hooded Define Jacket *Nulu|LW4BAIS|On the Move...\n",
      "9     lululemon Fundamental T|LM3BXVS|On the Move|-T...\n",
      "10    Fast and Free HR Tight 25|LW5BXQS|Running|100%...\n",
      "11    Fast and Free HR Short 6|LW7AU6S|Running|100% ...\n",
      "12    Fast and Free Short Sleeve *Airflow|LM3EJRS|Ru...\n",
      "13    Back in Action LS *Nulu|LW3EU9S|On the Move|A ...\n",
      "14    Groove Pant Flare *Nulu|LW5EBNS|Yoga and On th...\n",
      "15    Groove SHR Nulu Flared Pant *Regular|LW5EZ9S|Y...\n",
      "dtype: object\n"
     ]
    }
   ],
   "source": [
    "import pandas as pd\n",
    "data = pd.read_excel('Data_June_16_2023_salsify.xlsx')\n",
    "# Remove quotes, special characters, and backslashes from cells\n",
    "data = data.applymap(lambda x: str(x).replace('\"', '').replace('|', '').replace('\\n', '').replace('\\\\', '').replace('\"','').replace('™', '').replace('®', '').replace(' -','')) \n",
    "# Drop rows with duplicate values in the last column\n",
    "data.drop_duplicates(subset=data.columns[-1], keep=False, inplace=True)\n",
    "# Convert DataFrame to PIPE delimited flat file\n",
    "output = data.apply(lambda x: '|'.join(x.astype(str)), axis=1)\n",
    "# Write the output to a file\n",
    "#output.to_csv('output_file.txt', index=False, header=False)\n",
    "# print(\"hello\")\n",
    "# print( output)\n",
    "# print first 10 things\n",
    "print(output[0:10])"
   ]
  },
  {
   "cell_type": "code",
   "execution_count": 8,
   "id": "4618bfe6",
   "metadata": {},
   "outputs": [
    {
     "name": "stderr",
     "output_type": "stream",
     "text": [
      "Some weights of the model checkpoint at bert-base-uncased were not used when initializing BertModel: ['cls.predictions.transform.dense.weight', 'cls.seq_relationship.bias', 'cls.seq_relationship.weight', 'cls.predictions.transform.dense.bias', 'cls.predictions.transform.LayerNorm.weight', 'cls.predictions.bias', 'cls.predictions.transform.LayerNorm.bias']\n",
      "- This IS expected if you are initializing BertModel from the checkpoint of a model trained on another task or with another architecture (e.g. initializing a BertForSequenceClassification model from a BertForPreTraining model).\n",
      "- This IS NOT expected if you are initializing BertModel from the checkpoint of a model that you expect to be exactly identical (initializing a BertForSequenceClassification model from a BertForSequenceClassification model).\n"
     ]
    },
    {
     "name": "stdout",
     "output_type": "stream",
     "text": [
      "Product: High-quality leather wallet for men\tCluster: 1\n",
      "Product: Elegant and stylish women's handbag\tCluster: 0\n",
      "Product: Durable and lightweight hiking backpack\tCluster: 1\n",
      "Product: Soft and comfortable cotton t-shirt\tCluster: 0\n",
      "Product: Premium stainless steel kitchen knife set\tCluster: 0\n"
     ]
    }
   ],
   "source": [
    "# List of product descriptions\n",
    "product_descriptions = [\n",
    "    \"High-quality leather wallet for men\",\n",
    "    \"Elegant and stylish women's handbag\",\n",
    "    \"Durable and lightweight hiking backpack\",\n",
    "    \"Soft and comfortable cotton t-shirt\",\n",
    "    \"Premium stainless steel kitchen knife set\"\n",
    "]\n",
    "\n",
    "# Load pre-trained BERT tokenizer and model\n",
    "tokenizer = BertTokenizer.from_pretrained('bert-base-uncased')\n",
    "model = BertModel.from_pretrained('bert-base-uncased')\n",
    "\n",
    "# Tokenize and encode the product descriptions\n",
    "encoded_inputs = tokenizer(product_descriptions, padding=True, truncation=True, return_tensors='pt')\n",
    "\n",
    "# Get the embeddings using BERT model\n",
    "with torch.no_grad():\n",
    "    outputs = model(**encoded_inputs)\n",
    "\n",
    "# Get the sentence-level embeddings (CLS token)\n",
    "embeddings = outputs.last_hidden_state[:, 0, :]\n",
    "\n",
    "# Convert embeddings to numpy array\n",
    "embeddings = embeddings.numpy()\n",
    "\n",
    "# Perform clustering using K-Means algorithm\n",
    "num_clusters = 2  # Number of clusters to create\n",
    "kmeans = KMeans(n_clusters=num_clusters, random_state=0)\n",
    "cluster_labels = kmeans.fit_predict(embeddings)\n",
    "\n",
    "# Print the cluster labels for each product description\n",
    "for i, desc in enumerate(product_descriptions):\n",
    "    print(f\"Product: {desc}\\tCluster: {cluster_labels[i]}\")"
   ]
  },
  {
   "cell_type": "code",
   "execution_count": null,
   "id": "45aa2e77",
   "metadata": {},
   "outputs": [],
   "source": []
  },
  {
   "cell_type": "code",
   "execution_count": null,
   "id": "e97f8c52",
   "metadata": {},
   "outputs": [],
   "source": []
  }
 ],
 "metadata": {
  "kernelspec": {
   "display_name": "Python 3 (ipykernel)",
   "language": "python",
   "name": "python3"
  },
  "language_info": {
   "codemirror_mode": {
    "name": "ipython",
    "version": 3
   },
   "file_extension": ".py",
   "mimetype": "text/x-python",
   "name": "python",
   "nbconvert_exporter": "python",
   "pygments_lexer": "ipython3",
   "version": "3.9.7"
  }
 },
 "nbformat": 4,
 "nbformat_minor": 5
}
