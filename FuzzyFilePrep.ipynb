{
 "cells": [
  {
   "cell_type": "code",
   "execution_count": null,
   "id": "669ba6f3",
   "metadata": {},
   "outputs": [],
   "source": [
    "# import pandas as pd\n",
    "# from fuzzywuzzy import fuzz\n",
    "\n",
    "# # Load data from Excel file\n",
    "# data = pd.read_excel('Data_June_16_2023_salsify.xlsx')\n",
    "\n",
    "# # Clean the data\n",
    "# data = data.applymap(lambda x: str(x).replace('\"', '').replace('|', '').replace('\\n', '').replace('\\\\', '').replace('\"','').replace('™', '').replace('®', '').replace(' -','')) \n",
    "\n",
    "# # Remove exact duplicates based on the last column\n",
    "# data.drop_duplicates(subset=data.columns[-1], keep=False, inplace=True)\n",
    "\n",
    "# # Function to determine fuzzy match ratio between two strings\n",
    "# def is_duplicate(str1, str2):\n",
    "#     ratio = fuzz.ratio(str1.lower(), str2.lower())\n",
    "#     return ratio >= 90  # Adjust the threshold as needed\n",
    "\n",
    "# # Check for duplicates with fuzzy matching\n",
    "# duplicates = set()\n",
    "# for i, row in data.iterrows():\n",
    "#     desc = row[-1]\n",
    "#     for dup in duplicates:\n",
    "#         if is_duplicate(desc, dup):\n",
    "#             data.drop(i, inplace=True)\n",
    "#             break\n",
    "#     else:\n",
    "#         duplicates.add(desc)\n",
    "\n",
    "# # Concatenate the columns into a single string\n",
    "# output = data.apply(lambda x: '|'.join(x.astype(str)), axis=1)\n",
    "\n",
    "# # Print the first 10 rows of the output\n",
    "# print(output.head(10))\n",
    "print(\"The end\")"
   ]
  },
  {
   "cell_type": "code",
   "execution_count": null,
   "id": "3ab260b3",
   "metadata": {},
   "outputs": [],
   "source": []
  }
 ],
 "metadata": {
  "kernelspec": {
   "display_name": "Python 3 (ipykernel)",
   "language": "python",
   "name": "python3"
  },
  "language_info": {
   "codemirror_mode": {
    "name": "ipython",
    "version": 3
   },
   "file_extension": ".py",
   "mimetype": "text/x-python",
   "name": "python",
   "nbconvert_exporter": "python",
   "pygments_lexer": "ipython3",
   "version": "3.9.7"
  }
 },
 "nbformat": 4,
 "nbformat_minor": 5
}
