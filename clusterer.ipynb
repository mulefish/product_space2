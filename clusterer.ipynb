{
 "cells": [
  {
   "cell_type": "code",
   "execution_count": 2,
   "id": "7d226b30",
   "metadata": {},
   "outputs": [
    {
     "name": "stdout",
     "output_type": "stream",
     "text": [
      "Imports 14:13:17\n"
     ]
    }
   ],
   "source": [
    "from sklearn.cluster import KMeans\n",
    "from transformers import BertTokenizer, BertModel\n",
    "import torch\n",
    "import re\n",
    "import pandas as pd\n",
    "from datetime import datetime\n",
    "\n",
    "def getRightNow():\n",
    "    now = datetime.now()\n",
    "    hms = now.strftime(\"%H:%M:%S\")\n",
    "    return hms\n",
    "print(\"Imports {}\".format(getRightNow()))"
   ]
  },
  {
   "cell_type": "code",
   "execution_count": 23,
   "id": "ae0b1b0c",
   "metadata": {},
   "outputs": [
    {
     "name": "stdout",
     "output_type": "stream",
     "text": [
      "getData got 2509 objs at 14:50:42 from ready_for_analysis.txt\n"
     ]
    }
   ],
   "source": [
    "def getData(infile): \n",
    "    # List of Hashes\n",
    "    LoH = [] \n",
    "    with open(infile, 'r') as file:\n",
    "        for line in file:\n",
    "            pieces = line.split(\"|\")\n",
    "            obj = {\n",
    "                \"letter\":pieces[0], \n",
    "                \"charCount\":pieces[1],\n",
    "                \"dupCount\":pieces[2],\n",
    "                \"brief\":pieces[3],\n",
    "                \"productId\":pieces[4],\n",
    "                \"activity\":pieces[5],\n",
    "                \"desc\":pieces[6]\n",
    "            }\n",
    "            \n",
    "            LoH.append(obj)\n",
    "    print(\"getData() got {} objs at {} from {}\".format(len(LoH), getRightNow(), infile))\n",
    "    return LoH\n",
    "products = getData(\"ready_for_analysis.txt\")\n"
   ]
  },
  {
   "cell_type": "code",
   "execution_count": 4,
   "id": "c5a1bd17",
   "metadata": {},
   "outputs": [
    {
     "name": "stderr",
     "output_type": "stream",
     "text": [
      "Some weights of the model checkpoint at bert-base-uncased were not used when initializing BertModel: ['cls.predictions.transform.dense.weight', 'cls.predictions.transform.LayerNorm.bias', 'cls.predictions.bias', 'cls.predictions.transform.LayerNorm.weight', 'cls.seq_relationship.weight', 'cls.seq_relationship.bias', 'cls.predictions.transform.dense.bias']\n",
      "- This IS expected if you are initializing BertModel from the checkpoint of a model trained on another task or with another architecture (e.g. initializing a BertForSequenceClassification model from a BertForPreTraining model).\n",
      "- This IS NOT expected if you are initializing BertModel from the checkpoint of a model that you expect to be exactly identical (initializing a BertForSequenceClassification model from a BertForSequenceClassification model).\n"
     ]
    },
    {
     "name": "stdout",
     "output_type": "stream",
     "text": [
      "Product: High-quality leather wallet for men\tCluster: 1\n",
      "Product: Elegant and stylish women's handbag\tCluster: 0\n",
      "Product: Durable and lightweight hiking backpack\tCluster: 1\n",
      "Product: Soft and comfortable cotton t-shirt\tCluster: 0\n",
      "Product: Premium stainless steel kitchen knife set\tCluster: 0\n"
     ]
    }
   ],
   "source": [
    "# List of product descriptions\n",
    "product_descriptions = [\n",
    "    \"High-quality leather wallet for men\",\n",
    "    \"Elegant and stylish women's handbag\",\n",
    "    \"Durable and lightweight hiking backpack\",\n",
    "    \"Soft and comfortable cotton t-shirt\",\n",
    "    \"Premium stainless steel kitchen knife set\"\n",
    "]\n",
    "\n",
    "# Load pre-trained BERT tokenizer and model\n",
    "tokenizer = BertTokenizer.from_pretrained('bert-base-uncased')\n",
    "model = BertModel.from_pretrained('bert-base-uncased')\n",
    "\n",
    "# Tokenize and encode the product descriptions\n",
    "encoded_inputs = tokenizer(product_descriptions, padding=True, truncation=True, return_tensors='pt')\n",
    "\n",
    "# Get the embeddings using BERT model\n",
    "with torch.no_grad():\n",
    "    outputs = model(**encoded_inputs)\n",
    "\n",
    "# Get the sentence-level embeddings (CLS token)\n",
    "embeddings = outputs.last_hidden_state[:, 0, :]\n",
    "\n",
    "# Convert embeddings to numpy array\n",
    "embeddings = embeddings.numpy()\n",
    "\n",
    "# Perform clustering using K-Means algorithm\n",
    "num_clusters = 2  # Number of clusters to create\n",
    "kmeans = KMeans(n_clusters=num_clusters, random_state=0)\n",
    "cluster_labels = kmeans.fit_predict(embeddings)\n",
    "\n",
    "# Print the cluster labels for each product description\n",
    "for i, desc in enumerate(product_descriptions):\n",
    "    print(f\"Product: {desc}\\tCluster: {cluster_labels[i]}\")\n"
   ]
  },
  {
   "cell_type": "code",
   "execution_count": null,
   "id": "cbdc6c6e",
   "metadata": {},
   "outputs": [],
   "source": []
  }
 ],
 "metadata": {
  "kernelspec": {
   "display_name": "Python 3 (ipykernel)",
   "language": "python",
   "name": "python3"
  },
  "language_info": {
   "codemirror_mode": {
    "name": "ipython",
    "version": 3
   },
   "file_extension": ".py",
   "mimetype": "text/x-python",
   "name": "python",
   "nbconvert_exporter": "python",
   "pygments_lexer": "ipython3",
   "version": "3.9.7"
  }
 },
 "nbformat": 4,
 "nbformat_minor": 5
}
