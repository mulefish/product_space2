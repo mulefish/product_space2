{
 "cells": [
  {
   "cell_type": "code",
   "execution_count": 2,
   "id": "e96d108f",
   "metadata": {},
   "outputs": [
    {
     "name": "stdout",
     "output_type": "stream",
     "text": [
      "Imports 07:34:07\n"
     ]
    }
   ],
   "source": [
    "from sklearn.cluster import KMeans\n",
    "from transformers import BertTokenizer, BertModel\n",
    "import torch\n",
    "import re\n",
    "import pandas as pd\n",
    "from datetime import datetime\n",
    "\n",
    "def getRightNow():\n",
    "    now = datetime.now()\n",
    "    hms = now.strftime(\"%H:%M:%S\")\n",
    "    return hms\n",
    "print(\"Imports {}\".format(getRightNow()))"
   ]
  },
  {
   "cell_type": "code",
   "execution_count": 12,
   "id": "b1dbf09d",
   "metadata": {},
   "outputs": [
    {
     "name": "stdout",
     "output_type": "stream",
     "text": [
      "Data_June_16_2023_salsify.xlsx => output_file.txt @ 08:24:00\n",
      "{'name': 'Key Moments Keychain', 'id': 'LUxAIVS', 'activity': 'On the Move', 'desc': '-brand love!clip ring allows you to easily switch around your keysfabric is water resistant and easy to wipe clean'}\n",
      "{'name': 'Commission SS Shirt', 'id': 'LMxBUXS', 'activity': 'On the Move', 'desc': 'nan'}\n",
      "{'name': 'LAB Run Tank', 'id': 'LMxS', 'activity': 'Running', 'desc': '-PT from SUx WWMT'}\n"
     ]
    }
   ],
   "source": [
    "def ETL(outfile, infile):\n",
    "    descriptions = [] \n",
    "    def convert_numbers_to_x(string):\n",
    "        # Convert \"blah blah size 6\" or \"blah blah size 16\" to \"blah blah size x\"\n",
    "        # Needed to squish near duplicated lines\n",
    "        return re.sub(r'\\d+', 'x', string)\n",
    "\n",
    "    data = pd.read_excel(infile)\n",
    "    data = data.applymap(lambda x: str(x).replace('\\\"','').replace('\"', '').replace('|', '').replace('\\n', '').replace('\\\\', '').replace('\"','').replace('™', '').replace('®', '').replace(' -','')) \n",
    "    # Drop rows with duplicate values in the last column\n",
    "    data.drop_duplicates(subset=data.columns[-1], keep=False, inplace=True)\n",
    "    # Convert numbers to 'x'\n",
    "    data = data.applymap(convert_numbers_to_x)\n",
    "    # Convert DataFrame to PIPE delimited flat file\n",
    "    output = data.apply(lambda x: '|'.join(x.astype(str)), axis=1)\n",
    "    # Write the output to a file\n",
    "    output.to_csv(outfile, index=False, header=False)\n",
    "    print(\"{} => {} @ {}\".format( infile, outfile, getRightNow()))\n",
    "\n",
    "    for x in output[0:3]:\n",
    "        pieces = x.split(\"|\")\n",
    "        if len(pieces) == 4: \n",
    "            d = {\n",
    "                \"name\":pieces[0],\n",
    "                \"id\":pieces[1],\n",
    "                \"activity\":pieces[2],\n",
    "                \"desc\":pieces[3]\n",
    "            }\n",
    "            print(d)\n",
    "ETL(\"output_file.txt\", \"Data_June_16_2023_salsify.xlsx\")\n",
    "\n",
    "    \n"
   ]
  },
  {
   "cell_type": "code",
   "execution_count": null,
   "id": "691c0b1c",
   "metadata": {},
   "outputs": [],
   "source": [
    "def number_to_letter(num):\n",
    "    # Why letters as labels rather than numbers? \n",
    "    # Because numbers sort of imply an order\n",
    "    # Letters do also, but less so.\n",
    "    x = num\n",
    "    if num <= 0:\n",
    "        raise ValueError(\"Input must be a positive integer.\")\n",
    "    \n",
    "    letters = \"\"\n",
    "    while num > 0:\n",
    "        num -= 1\n",
    "        # Map the remainder to the corresponding letter\n",
    "        letters = chr(num % 26 + ord('A')) + letters  \n",
    "        # Divide by 26 to move to the next digit\n",
    "        num //= 26\n",
    "        \n",
    "    return letters"
   ]
  },
  {
   "cell_type": "code",
   "execution_count": 8,
   "id": "4618bfe6",
   "metadata": {},
   "outputs": [
    {
     "name": "stderr",
     "output_type": "stream",
     "text": [
      "Some weights of the model checkpoint at bert-base-uncased were not used when initializing BertModel: ['cls.predictions.transform.dense.weight', 'cls.seq_relationship.bias', 'cls.seq_relationship.weight', 'cls.predictions.transform.dense.bias', 'cls.predictions.transform.LayerNorm.weight', 'cls.predictions.bias', 'cls.predictions.transform.LayerNorm.bias']\n",
      "- This IS expected if you are initializing BertModel from the checkpoint of a model trained on another task or with another architecture (e.g. initializing a BertForSequenceClassification model from a BertForPreTraining model).\n",
      "- This IS NOT expected if you are initializing BertModel from the checkpoint of a model that you expect to be exactly identical (initializing a BertForSequenceClassification model from a BertForSequenceClassification model).\n"
     ]
    },
    {
     "name": "stdout",
     "output_type": "stream",
     "text": [
      "Product: High-quality leather wallet for men\tCluster: 1\n",
      "Product: Elegant and stylish women's handbag\tCluster: 0\n",
      "Product: Durable and lightweight hiking backpack\tCluster: 1\n",
      "Product: Soft and comfortable cotton t-shirt\tCluster: 0\n",
      "Product: Premium stainless steel kitchen knife set\tCluster: 0\n"
     ]
    }
   ],
   "source": [
    "# List of product descriptions\n",
    "product_descriptions = [\n",
    "    \"High-quality leather wallet for men\",\n",
    "    \"Elegant and stylish women's handbag\",\n",
    "    \"Durable and lightweight hiking backpack\",\n",
    "    \"Soft and comfortable cotton t-shirt\",\n",
    "    \"Premium stainless steel kitchen knife set\"\n",
    "]\n",
    "\n",
    "# Load pre-trained BERT tokenizer and model\n",
    "tokenizer = BertTokenizer.from_pretrained('bert-base-uncased')\n",
    "model = BertModel.from_pretrained('bert-base-uncased')\n",
    "\n",
    "# Tokenize and encode the product descriptions\n",
    "encoded_inputs = tokenizer(product_descriptions, padding=True, truncation=True, return_tensors='pt')\n",
    "\n",
    "# Get the embeddings using BERT model\n",
    "with torch.no_grad():\n",
    "    outputs = model(**encoded_inputs)\n",
    "\n",
    "# Get the sentence-level embeddings (CLS token)\n",
    "embeddings = outputs.last_hidden_state[:, 0, :]\n",
    "\n",
    "# Convert embeddings to numpy array\n",
    "embeddings = embeddings.numpy()\n",
    "\n",
    "# Perform clustering using K-Means algorithm\n",
    "num_clusters = 2  # Number of clusters to create\n",
    "kmeans = KMeans(n_clusters=num_clusters, random_state=0)\n",
    "cluster_labels = kmeans.fit_predict(embeddings)\n",
    "\n",
    "# Print the cluster labels for each product description\n",
    "for i, desc in enumerate(product_descriptions):\n",
    "    print(f\"Product: {desc}\\tCluster: {cluster_labels[i]}\")"
   ]
  },
  {
   "cell_type": "code",
   "execution_count": null,
   "id": "45aa2e77",
   "metadata": {},
   "outputs": [],
   "source": []
  },
  {
   "cell_type": "code",
   "execution_count": null,
   "id": "e97f8c52",
   "metadata": {},
   "outputs": [],
   "source": []
  }
 ],
 "metadata": {
  "kernelspec": {
   "display_name": "Python 3 (ipykernel)",
   "language": "python",
   "name": "python3"
  },
  "language_info": {
   "codemirror_mode": {
    "name": "ipython",
    "version": 3
   },
   "file_extension": ".py",
   "mimetype": "text/x-python",
   "name": "python",
   "nbconvert_exporter": "python",
   "pygments_lexer": "ipython3",
   "version": "3.9.7"
  }
 },
 "nbformat": 4,
 "nbformat_minor": 5
}
