{
 "cells": [
  {
   "cell_type": "code",
   "execution_count": null,
   "id": "a4649972",
   "metadata": {},
   "outputs": [],
   "source": [
    "## Goal: Prep product descriptions to data to be clustered by a BERT algo\n",
    "# Q: What does this file do? \n",
    "# A: \n",
    "# FROM lines like this:\n",
    "\n",
    "# TO lines like this: \n",
    "#A|156|1|Key Moments Keychain|LUxAIVS|On the Move|-brand love!clip ring allows you to easily switch around your keys fabric is water resistant and easy to wipe clean\n",
    "\n",
    "# Q: What are the diff columns? \n",
    "# First = letter id pointing to a description, which the UI will use later on\n",
    "# Second = char count of the description because curios if that will impact BERT algo\n",
    "# Third = near dup count - Not sure what to do with this one - maybe nothing\n",
    "# Fourth = one-way-scrabled product id\n",
    "# Fifth = activity ( i.e., LOB) \n",
    "# Sixth = the actual description \n",
    "\n",
    "\n"
   ]
  },
  {
   "cell_type": "code",
   "execution_count": 1,
   "id": "17f240fe",
   "metadata": {},
   "outputs": [
    {
     "name": "stdout",
     "output_type": "stream",
     "text": [
      "Imports 11:00:27\n"
     ]
    }
   ],
   "source": [
    "from sklearn.cluster import KMeans\n",
    "from transformers import BertTokenizer, BertModel\n",
    "import torch\n",
    "import re\n",
    "import pandas as pd\n",
    "from datetime import datetime\n",
    "\n",
    "def getRightNow():\n",
    "    now = datetime.now()\n",
    "    hms = now.strftime(\"%H:%M:%S\")\n",
    "    return hms\n",
    "print(\"Imports {}\".format(getRightNow()))"
   ]
  },
  {
   "cell_type": "code",
   "execution_count": 18,
   "id": "48223c5c",
   "metadata": {},
   "outputs": [
    {
     "name": "stdout",
     "output_type": "stream",
     "text": [
      "ETL and wrote to ready_for_analysis.txt with 2511 rowcount at 11:18:08\n"
     ]
    }
   ],
   "source": [
    "def ETL(outfile, infile):\n",
    "    \n",
    "    def numberToLetter(num):\n",
    "        if num <= 0:\n",
    "            raise ValueError(\"Input must be a positive integer.\")    \n",
    "        letters = \"\"\n",
    "        while num > 0:\n",
    "            num -= 1\n",
    "            # Map the remainder to the corresponding letter\n",
    "            letters = chr(num % 26 + ord('A')) + letters  \n",
    "            # Divide by 26 to move to the next digit\n",
    "            num //= 26\n",
    "        return letters\n",
    "    \n",
    "    def makePrettyRow(x,  dupCount, ith):         \n",
    "        lookUpId = numberToLetter(ith)\n",
    "        theImportantStuff = \"{}|{}|{}|{}\".format(x[\"name\"], x[\"id\"],x[\"activity\"],x[\"desc\"])\n",
    "        n = len(theImportantStuff)\n",
    "        # lookUpId = row look up...  so 'XYZ' will point to 'some description'\n",
    "        # n = char count --- curious how length affects the BERT model\n",
    "        # dupCount --- might want to weight things somewhat depending on how duplicated they are ( assumption = more dups is more good )\n",
    "        return \"{}|{}|{}|{}\\n\".format(lookUpId, n, dupCount, theImportantStuff)\n",
    "    \n",
    "    def nothingIsEmpty(ary): \n",
    "        # Lots of the cells are empty and illformed - skip any row with an empty cell\n",
    "        isOk = len(ary[0]) > 0 and  len(ary[1]) > 0 and len(ary[2]) > 0 and len(ary[3]) > 20 \n",
    "        return isOk \n",
    "    \n",
    "    def convert_numbers_to_x(string):\n",
    "        # Convert \"blah blah size 6\" or \"blah blah size 16\" to \"blah blah size x\"\n",
    "        # Needed to squish near duplicated lines\n",
    "        return re.sub(r'\\d+', 'x', string)\n",
    "\n",
    "    descriptions = [] \n",
    "    seen = {} \n",
    "    products = [] \n",
    "    with open(infile, 'r') as file:\n",
    "        for line in file:\n",
    "            pieces = line.replace('\"', '').strip().split('|')\n",
    "            if len(pieces) == 4:\n",
    "                pieces[3] = convert_numbers_to_x(pieces[3])\n",
    "                if nothingIsEmpty(pieces) == True: \n",
    "                    x = {\n",
    "                        \"name\":pieces[0],\n",
    "                        \"id\":pieces[1],\n",
    "                        \"activity\":pieces[2],\n",
    "                        \"desc\":pieces[3]\n",
    "                    }\n",
    "                    if x['desc'] not in seen: \n",
    "                        seen[x[\"desc\"]] = 1\n",
    "                        products.append(x)\n",
    "                    else:\n",
    "                        seen[x[\"desc\"]] += 1\n",
    "                        \n",
    "                        \n",
    "    with open(outfile, 'w') as file:\n",
    "        i = 0\n",
    "        # for x in products[0:3]:\n",
    "        for x in products:\n",
    "             i += 1\n",
    "             r = makePrettyRow(x,  seen[x[\"desc\"]], i)\n",
    "             file.write(r)\n",
    "    print(\"ETL and wrote to {} with {} rowcount at {}\".format(outfile, len(products), getRightNow()))            \n",
    "ETL(\"ready_for_analysis.txt\", \"Data_June_16_redacted.txt\")"
   ]
  },
  {
   "cell_type": "code",
   "execution_count": null,
   "id": "459c60e6",
   "metadata": {},
   "outputs": [],
   "source": []
  }
 ],
 "metadata": {
  "kernelspec": {
   "display_name": "Python 3 (ipykernel)",
   "language": "python",
   "name": "python3"
  },
  "language_info": {
   "codemirror_mode": {
    "name": "ipython",
    "version": 3
   },
   "file_extension": ".py",
   "mimetype": "text/x-python",
   "name": "python",
   "nbconvert_exporter": "python",
   "pygments_lexer": "ipython3",
   "version": "3.9.7"
  }
 },
 "nbformat": 4,
 "nbformat_minor": 5
}
